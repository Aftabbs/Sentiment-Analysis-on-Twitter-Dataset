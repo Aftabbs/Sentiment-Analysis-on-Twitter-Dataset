{
  "cells": [
    {
      "cell_type": "markdown",
      "source": [
        "# Twitter Sentiment Analysis Using Machine Learning and NLP"
      ],
      "metadata": {
        "id": "1F-9kqPpp25r"
      }
    },
    {
      "cell_type": "markdown",
      "source": [
        "**Note**:Im Performing the Analysis in Google Colab to avoid Libraries issues.\n",
        "and i have used some new libraries for Preprocessing so kindly Install .\n",
        " to install libraies use !pip install library name in command line\n",
        " its Optional to use Google Colab else Jupyternotebook works fine just to avoid issues while installing these Libraries"
      ],
      "metadata": {
        "id": "m0Hqyav5rWAK"
      }
    },
    {
      "cell_type": "markdown",
      "source": [
        "### Importing the Necessary Libraries"
      ],
      "metadata": {
        "id": "Tnd81j-IqBRG"
      }
    },
    {
      "cell_type": "code",
      "source": [
        "import pandas as pd\n",
        "import seaborn as sns\n",
        "import matplotlib.pyplot as plt\n",
        "import re\n",
        "import emoji\n",
        "import spacy as sp\n",
        "nlp = sp.load('en_core_web_sm') \n",
        "from sklearn.model_selection import train_test_split\n",
        "from sklearn.metrics import accuracy_score,confusion_matrix, ConfusionMatrixDisplay, classification_report\n",
        "from sklearn.naive_bayes import MultinomialNB\n",
        "from sklearn.feature_extraction.text import CountVectorizer,TfidfVectorizer\n",
        "from warnings import filterwarnings\n",
        "filterwarnings('ignore')"
      ],
      "metadata": {
        "id": "ecTiDF7dd-Mt"
      },
      "execution_count": 7,
      "outputs": []
    },
    {
      "cell_type": "markdown",
      "source": [
        "### Load The Dataset"
      ],
      "metadata": {
        "id": "XaOihl3_fG8c"
      }
    },
    {
      "cell_type": "code",
      "source": [
        "df=pd.read_excel(\"LabeledText.xlsx\")\n",
        "df.head()"
      ],
      "metadata": {
        "colab": {
          "base_uri": "https://localhost:8080/",
          "height": 206
        },
        "id": "Ofb2TPbReDES",
        "outputId": "5b699d96-ffd6-4fd5-b925-58072a1667da"
      },
      "execution_count": 4,
      "outputs": [
        {
          "output_type": "execute_result",
          "data": {
            "text/plain": [
              "  File Name                                            Caption     LABEL\n",
              "0     1.txt      How I feel today #legday #jelly #aching #gym   negative\n",
              "1    10.txt  @ArrivaTW absolute disgrace two carriages from...  negative\n",
              "2   100.txt  This is my Valentine's from 1 of my nephews. I...  positive\n",
              "3  1000.txt  betterfeelingfilms: RT via Instagram: First da...   neutral\n",
              "4  1001.txt         Zoe's first love #Rattled @JohnnyHarper15   positive"
            ],
            "text/html": [
              "\n",
              "  <div id=\"df-7bac356a-4cbb-482d-997e-9eed8cc9b67d\">\n",
              "    <div class=\"colab-df-container\">\n",
              "      <div>\n",
              "<style scoped>\n",
              "    .dataframe tbody tr th:only-of-type {\n",
              "        vertical-align: middle;\n",
              "    }\n",
              "\n",
              "    .dataframe tbody tr th {\n",
              "        vertical-align: top;\n",
              "    }\n",
              "\n",
              "    .dataframe thead th {\n",
              "        text-align: right;\n",
              "    }\n",
              "</style>\n",
              "<table border=\"1\" class=\"dataframe\">\n",
              "  <thead>\n",
              "    <tr style=\"text-align: right;\">\n",
              "      <th></th>\n",
              "      <th>File Name</th>\n",
              "      <th>Caption</th>\n",
              "      <th>LABEL</th>\n",
              "    </tr>\n",
              "  </thead>\n",
              "  <tbody>\n",
              "    <tr>\n",
              "      <th>0</th>\n",
              "      <td>1.txt</td>\n",
              "      <td>How I feel today #legday #jelly #aching #gym</td>\n",
              "      <td>negative</td>\n",
              "    </tr>\n",
              "    <tr>\n",
              "      <th>1</th>\n",
              "      <td>10.txt</td>\n",
              "      <td>@ArrivaTW absolute disgrace two carriages from...</td>\n",
              "      <td>negative</td>\n",
              "    </tr>\n",
              "    <tr>\n",
              "      <th>2</th>\n",
              "      <td>100.txt</td>\n",
              "      <td>This is my Valentine's from 1 of my nephews. I...</td>\n",
              "      <td>positive</td>\n",
              "    </tr>\n",
              "    <tr>\n",
              "      <th>3</th>\n",
              "      <td>1000.txt</td>\n",
              "      <td>betterfeelingfilms: RT via Instagram: First da...</td>\n",
              "      <td>neutral</td>\n",
              "    </tr>\n",
              "    <tr>\n",
              "      <th>4</th>\n",
              "      <td>1001.txt</td>\n",
              "      <td>Zoe's first love #Rattled @JohnnyHarper15</td>\n",
              "      <td>positive</td>\n",
              "    </tr>\n",
              "  </tbody>\n",
              "</table>\n",
              "</div>\n",
              "      <button class=\"colab-df-convert\" onclick=\"convertToInteractive('df-7bac356a-4cbb-482d-997e-9eed8cc9b67d')\"\n",
              "              title=\"Convert this dataframe to an interactive table.\"\n",
              "              style=\"display:none;\">\n",
              "        \n",
              "  <svg xmlns=\"http://www.w3.org/2000/svg\" height=\"24px\"viewBox=\"0 0 24 24\"\n",
              "       width=\"24px\">\n",
              "    <path d=\"M0 0h24v24H0V0z\" fill=\"none\"/>\n",
              "    <path d=\"M18.56 5.44l.94 2.06.94-2.06 2.06-.94-2.06-.94-.94-2.06-.94 2.06-2.06.94zm-11 1L8.5 8.5l.94-2.06 2.06-.94-2.06-.94L8.5 2.5l-.94 2.06-2.06.94zm10 10l.94 2.06.94-2.06 2.06-.94-2.06-.94-.94-2.06-.94 2.06-2.06.94z\"/><path d=\"M17.41 7.96l-1.37-1.37c-.4-.4-.92-.59-1.43-.59-.52 0-1.04.2-1.43.59L10.3 9.45l-7.72 7.72c-.78.78-.78 2.05 0 2.83L4 21.41c.39.39.9.59 1.41.59.51 0 1.02-.2 1.41-.59l7.78-7.78 2.81-2.81c.8-.78.8-2.07 0-2.86zM5.41 20L4 18.59l7.72-7.72 1.47 1.35L5.41 20z\"/>\n",
              "  </svg>\n",
              "      </button>\n",
              "      \n",
              "  <style>\n",
              "    .colab-df-container {\n",
              "      display:flex;\n",
              "      flex-wrap:wrap;\n",
              "      gap: 12px;\n",
              "    }\n",
              "\n",
              "    .colab-df-convert {\n",
              "      background-color: #E8F0FE;\n",
              "      border: none;\n",
              "      border-radius: 50%;\n",
              "      cursor: pointer;\n",
              "      display: none;\n",
              "      fill: #1967D2;\n",
              "      height: 32px;\n",
              "      padding: 0 0 0 0;\n",
              "      width: 32px;\n",
              "    }\n",
              "\n",
              "    .colab-df-convert:hover {\n",
              "      background-color: #E2EBFA;\n",
              "      box-shadow: 0px 1px 2px rgba(60, 64, 67, 0.3), 0px 1px 3px 1px rgba(60, 64, 67, 0.15);\n",
              "      fill: #174EA6;\n",
              "    }\n",
              "\n",
              "    [theme=dark] .colab-df-convert {\n",
              "      background-color: #3B4455;\n",
              "      fill: #D2E3FC;\n",
              "    }\n",
              "\n",
              "    [theme=dark] .colab-df-convert:hover {\n",
              "      background-color: #434B5C;\n",
              "      box-shadow: 0px 1px 3px 1px rgba(0, 0, 0, 0.15);\n",
              "      filter: drop-shadow(0px 1px 2px rgba(0, 0, 0, 0.3));\n",
              "      fill: #FFFFFF;\n",
              "    }\n",
              "  </style>\n",
              "\n",
              "      <script>\n",
              "        const buttonEl =\n",
              "          document.querySelector('#df-7bac356a-4cbb-482d-997e-9eed8cc9b67d button.colab-df-convert');\n",
              "        buttonEl.style.display =\n",
              "          google.colab.kernel.accessAllowed ? 'block' : 'none';\n",
              "\n",
              "        async function convertToInteractive(key) {\n",
              "          const element = document.querySelector('#df-7bac356a-4cbb-482d-997e-9eed8cc9b67d');\n",
              "          const dataTable =\n",
              "            await google.colab.kernel.invokeFunction('convertToInteractive',\n",
              "                                                     [key], {});\n",
              "          if (!dataTable) return;\n",
              "\n",
              "          const docLinkHtml = 'Like what you see? Visit the ' +\n",
              "            '<a target=\"_blank\" href=https://colab.research.google.com/notebooks/data_table.ipynb>data table notebook</a>'\n",
              "            + ' to learn more about interactive tables.';\n",
              "          element.innerHTML = '';\n",
              "          dataTable['output_type'] = 'display_data';\n",
              "          await google.colab.output.renderOutput(dataTable, element);\n",
              "          const docLink = document.createElement('div');\n",
              "          docLink.innerHTML = docLinkHtml;\n",
              "          element.appendChild(docLink);\n",
              "        }\n",
              "      </script>\n",
              "    </div>\n",
              "  </div>\n",
              "  "
            ]
          },
          "metadata": {},
          "execution_count": 4
        }
      ]
    },
    {
      "cell_type": "code",
      "source": [
        "df.info()"
      ],
      "metadata": {
        "colab": {
          "base_uri": "https://localhost:8080/"
        },
        "id": "bBMnznzketpk",
        "outputId": "a28d409b-d34f-4fcd-952b-c7cb128f1925"
      },
      "execution_count": 5,
      "outputs": [
        {
          "output_type": "stream",
          "name": "stdout",
          "text": [
            "<class 'pandas.core.frame.DataFrame'>\n",
            "RangeIndex: 4869 entries, 0 to 4868\n",
            "Data columns (total 3 columns):\n",
            " #   Column     Non-Null Count  Dtype \n",
            "---  ------     --------------  ----- \n",
            " 0   File Name  4869 non-null   object\n",
            " 1   Caption    4869 non-null   object\n",
            " 2   LABEL      4869 non-null   object\n",
            "dtypes: object(3)\n",
            "memory usage: 114.2+ KB\n"
          ]
        }
      ]
    },
    {
      "cell_type": "markdown",
      "source": [
        "* There are 4869 rows and 3 Columns\n",
        "* All the # columns are of Object/categorical Datatype"
      ],
      "metadata": {
        "id": "HcU50Oi3gAWn"
      }
    },
    {
      "cell_type": "code",
      "source": [
        "df.describe()"
      ],
      "metadata": {
        "colab": {
          "base_uri": "https://localhost:8080/",
          "height": 175
        },
        "id": "RDy4UUaufZbT",
        "outputId": "c8b58626-6e0b-4b14-8002-5ef9d79adc01"
      },
      "execution_count": 11,
      "outputs": [
        {
          "output_type": "execute_result",
          "data": {
            "text/plain": [
              "       File Name                                            Caption    LABEL\n",
              "count       4869                                               4869     4869\n",
              "unique      4869                                               4663        3\n",
              "top        1.txt  #February #Winter #Rainy #Stormy #Windy #Tuesd...  neutral\n",
              "freq           1                                                 10     1771"
            ],
            "text/html": [
              "\n",
              "  <div id=\"df-5aeb2856-b2f0-479f-9b52-037c00996116\">\n",
              "    <div class=\"colab-df-container\">\n",
              "      <div>\n",
              "<style scoped>\n",
              "    .dataframe tbody tr th:only-of-type {\n",
              "        vertical-align: middle;\n",
              "    }\n",
              "\n",
              "    .dataframe tbody tr th {\n",
              "        vertical-align: top;\n",
              "    }\n",
              "\n",
              "    .dataframe thead th {\n",
              "        text-align: right;\n",
              "    }\n",
              "</style>\n",
              "<table border=\"1\" class=\"dataframe\">\n",
              "  <thead>\n",
              "    <tr style=\"text-align: right;\">\n",
              "      <th></th>\n",
              "      <th>File Name</th>\n",
              "      <th>Caption</th>\n",
              "      <th>LABEL</th>\n",
              "    </tr>\n",
              "  </thead>\n",
              "  <tbody>\n",
              "    <tr>\n",
              "      <th>count</th>\n",
              "      <td>4869</td>\n",
              "      <td>4869</td>\n",
              "      <td>4869</td>\n",
              "    </tr>\n",
              "    <tr>\n",
              "      <th>unique</th>\n",
              "      <td>4869</td>\n",
              "      <td>4663</td>\n",
              "      <td>3</td>\n",
              "    </tr>\n",
              "    <tr>\n",
              "      <th>top</th>\n",
              "      <td>1.txt</td>\n",
              "      <td>#February #Winter #Rainy #Stormy #Windy #Tuesd...</td>\n",
              "      <td>neutral</td>\n",
              "    </tr>\n",
              "    <tr>\n",
              "      <th>freq</th>\n",
              "      <td>1</td>\n",
              "      <td>10</td>\n",
              "      <td>1771</td>\n",
              "    </tr>\n",
              "  </tbody>\n",
              "</table>\n",
              "</div>\n",
              "      <button class=\"colab-df-convert\" onclick=\"convertToInteractive('df-5aeb2856-b2f0-479f-9b52-037c00996116')\"\n",
              "              title=\"Convert this dataframe to an interactive table.\"\n",
              "              style=\"display:none;\">\n",
              "        \n",
              "  <svg xmlns=\"http://www.w3.org/2000/svg\" height=\"24px\"viewBox=\"0 0 24 24\"\n",
              "       width=\"24px\">\n",
              "    <path d=\"M0 0h24v24H0V0z\" fill=\"none\"/>\n",
              "    <path d=\"M18.56 5.44l.94 2.06.94-2.06 2.06-.94-2.06-.94-.94-2.06-.94 2.06-2.06.94zm-11 1L8.5 8.5l.94-2.06 2.06-.94-2.06-.94L8.5 2.5l-.94 2.06-2.06.94zm10 10l.94 2.06.94-2.06 2.06-.94-2.06-.94-.94-2.06-.94 2.06-2.06.94z\"/><path d=\"M17.41 7.96l-1.37-1.37c-.4-.4-.92-.59-1.43-.59-.52 0-1.04.2-1.43.59L10.3 9.45l-7.72 7.72c-.78.78-.78 2.05 0 2.83L4 21.41c.39.39.9.59 1.41.59.51 0 1.02-.2 1.41-.59l7.78-7.78 2.81-2.81c.8-.78.8-2.07 0-2.86zM5.41 20L4 18.59l7.72-7.72 1.47 1.35L5.41 20z\"/>\n",
              "  </svg>\n",
              "      </button>\n",
              "      \n",
              "  <style>\n",
              "    .colab-df-container {\n",
              "      display:flex;\n",
              "      flex-wrap:wrap;\n",
              "      gap: 12px;\n",
              "    }\n",
              "\n",
              "    .colab-df-convert {\n",
              "      background-color: #E8F0FE;\n",
              "      border: none;\n",
              "      border-radius: 50%;\n",
              "      cursor: pointer;\n",
              "      display: none;\n",
              "      fill: #1967D2;\n",
              "      height: 32px;\n",
              "      padding: 0 0 0 0;\n",
              "      width: 32px;\n",
              "    }\n",
              "\n",
              "    .colab-df-convert:hover {\n",
              "      background-color: #E2EBFA;\n",
              "      box-shadow: 0px 1px 2px rgba(60, 64, 67, 0.3), 0px 1px 3px 1px rgba(60, 64, 67, 0.15);\n",
              "      fill: #174EA6;\n",
              "    }\n",
              "\n",
              "    [theme=dark] .colab-df-convert {\n",
              "      background-color: #3B4455;\n",
              "      fill: #D2E3FC;\n",
              "    }\n",
              "\n",
              "    [theme=dark] .colab-df-convert:hover {\n",
              "      background-color: #434B5C;\n",
              "      box-shadow: 0px 1px 3px 1px rgba(0, 0, 0, 0.15);\n",
              "      filter: drop-shadow(0px 1px 2px rgba(0, 0, 0, 0.3));\n",
              "      fill: #FFFFFF;\n",
              "    }\n",
              "  </style>\n",
              "\n",
              "      <script>\n",
              "        const buttonEl =\n",
              "          document.querySelector('#df-5aeb2856-b2f0-479f-9b52-037c00996116 button.colab-df-convert');\n",
              "        buttonEl.style.display =\n",
              "          google.colab.kernel.accessAllowed ? 'block' : 'none';\n",
              "\n",
              "        async function convertToInteractive(key) {\n",
              "          const element = document.querySelector('#df-5aeb2856-b2f0-479f-9b52-037c00996116');\n",
              "          const dataTable =\n",
              "            await google.colab.kernel.invokeFunction('convertToInteractive',\n",
              "                                                     [key], {});\n",
              "          if (!dataTable) return;\n",
              "\n",
              "          const docLinkHtml = 'Like what you see? Visit the ' +\n",
              "            '<a target=\"_blank\" href=https://colab.research.google.com/notebooks/data_table.ipynb>data table notebook</a>'\n",
              "            + ' to learn more about interactive tables.';\n",
              "          element.innerHTML = '';\n",
              "          dataTable['output_type'] = 'display_data';\n",
              "          await google.colab.output.renderOutput(dataTable, element);\n",
              "          const docLink = document.createElement('div');\n",
              "          docLink.innerHTML = docLinkHtml;\n",
              "          element.appendChild(docLink);\n",
              "        }\n",
              "      </script>\n",
              "    </div>\n",
              "  </div>\n",
              "  "
            ]
          },
          "metadata": {},
          "execution_count": 11
        }
      ]
    },
    {
      "cell_type": "markdown",
      "source": [
        "* Most Occured Caption \tFebruary #Winter #Rainy #Stormy #Windy #Tuesd..\n",
        "* Most Occured Label \tneutral"
      ],
      "metadata": {
        "id": "MYOHk9ZmgVuW"
      }
    },
    {
      "cell_type": "code",
      "source": [
        "df.isnull().sum().sum()"
      ],
      "metadata": {
        "colab": {
          "base_uri": "https://localhost:8080/"
        },
        "id": "CFSofE-pfak2",
        "outputId": "ea75dc31-72a4-4f1d-d571-968c3b310f1f"
      },
      "execution_count": 13,
      "outputs": [
        {
          "output_type": "execute_result",
          "data": {
            "text/plain": [
              "0"
            ]
          },
          "metadata": {},
          "execution_count": 13
        }
      ]
    },
    {
      "cell_type": "markdown",
      "source": [
        "### There are no any Null values Present"
      ],
      "metadata": {
        "id": "eXgIPqDpfplK"
      }
    },
    {
      "cell_type": "code",
      "source": [
        "df['LABEL'].value_counts(normalize=True).plot(kind='pie',autopct='%2.f%%')\n",
        "plt.title('Distribution of Target Column [LABEL]')\n",
        "plt.show()"
      ],
      "metadata": {
        "colab": {
          "base_uri": "https://localhost:8080/",
          "height": 428
        },
        "id": "JDjGZSkHqZzS",
        "outputId": "8b5265fd-3a04-4a59-c44f-42698cd4c60e"
      },
      "execution_count": 61,
      "outputs": [
        {
          "output_type": "display_data",
          "data": {
            "text/plain": [
              "<Figure size 640x480 with 1 Axes>"
            ],
            "image/png": "[encoded data removed]"
          },
          "metadata": {}
        }
      ]
    },
    {
      "cell_type": "code",
      "execution_count": 18,
      "metadata": {
        "execution": {
          "iopub.execute_input": "2023-03-23T12:21:58.092741Z",
          "iopub.status.busy": "2023-03-23T12:21:58.092135Z",
          "iopub.status.idle": "2023-03-23T12:21:58.206382Z",
          "shell.execute_reply": "2023-03-23T12:21:58.205094Z",
          "shell.execute_reply.started": "2023-03-23T12:21:58.092708Z"
        },
        "colab": {
          "base_uri": "https://localhost:8080/",
          "height": 237
        },
        "id": "diqdGOnadzw9",
        "outputId": "42d2f944-0122-4a25-f81d-aefcbe50bfa0"
      },
      "outputs": [
        {
          "output_type": "execute_result",
          "data": {
            "text/plain": [
              "     File Name                                            Caption     LABEL\n",
              "4612   768.txt  RT @RexTheSuperLab: Help find my friend..5 mon...  negative\n",
              "1021  1918.txt  Behold the lilies of the field.....#bible #car...  positive\n",
              "1446   247.txt      RT @CazZxox: #dizzy #GamerGate #PS3 #perfect   positive\n",
              "2315  3299.txt  RT @500pxGallery: Marooned #4 by EdMorris #500...   neutral\n",
              "1534  2566.txt  RT @tribecalledgod: Kendrick Lamar - Cut You Off    neutral\n",
              "3994  4828.txt     RT @m_r_o__: ¤¨¤²¤Ä¤Ê¤¤ http://t.co/Ox4Z8oBkpJ   neutral"
            ],
            "text/html": [
              "\n",
              "  <div id=\"df-913a36d3-0cbe-4d98-8511-46d51c89e243\">\n",
              "    <div class=\"colab-df-container\">\n",
              "      <div>\n",
              "<style scoped>\n",
              "    .dataframe tbody tr th:only-of-type {\n",
              "        vertical-align: middle;\n",
              "    }\n",
              "\n",
              "    .dataframe tbody tr th {\n",
              "        vertical-align: top;\n",
              "    }\n",
              "\n",
              "    .dataframe thead th {\n",
              "        text-align: right;\n",
              "    }\n",
              "</style>\n",
              "<table border=\"1\" class=\"dataframe\">\n",
              "  <thead>\n",
              "    <tr style=\"text-align: right;\">\n",
              "      <th></th>\n",
              "      <th>File Name</th>\n",
              "      <th>Caption</th>\n",
              "      <th>LABEL</th>\n",
              "    </tr>\n",
              "  </thead>\n",
              "  <tbody>\n",
              "    <tr>\n",
              "      <th>4612</th>\n",
              "      <td>768.txt</td>\n",
              "      <td>RT @RexTheSuperLab: Help find my friend..5 mon...</td>\n",
              "      <td>negative</td>\n",
              "    </tr>\n",
              "    <tr>\n",
              "      <th>1021</th>\n",
              "      <td>1918.txt</td>\n",
              "      <td>Behold the lilies of the field.....#bible #car...</td>\n",
              "      <td>positive</td>\n",
              "    </tr>\n",
              "    <tr>\n",
              "      <th>1446</th>\n",
              "      <td>247.txt</td>\n",
              "      <td>RT @CazZxox: #dizzy #GamerGate #PS3 #perfect</td>\n",
              "      <td>positive</td>\n",
              "    </tr>\n",
              "    <tr>\n",
              "      <th>2315</th>\n",
              "      <td>3299.txt</td>\n",
              "      <td>RT @500pxGallery: Marooned #4 by EdMorris #500...</td>\n",
              "      <td>neutral</td>\n",
              "    </tr>\n",
              "    <tr>\n",
              "      <th>1534</th>\n",
              "      <td>2566.txt</td>\n",
              "      <td>RT @tribecalledgod: Kendrick Lamar - Cut You Off</td>\n",
              "      <td>neutral</td>\n",
              "    </tr>\n",
              "    <tr>\n",
              "      <th>3994</th>\n",
              "      <td>4828.txt</td>\n",
              "      <td>RT @m_r_o__: ¤¨¤²¤Ä¤Ê¤¤ http://t.co/Ox4Z8oBkpJ</td>\n",
              "      <td>neutral</td>\n",
              "    </tr>\n",
              "  </tbody>\n",
              "</table>\n",
              "</div>\n",
              "      <button class=\"colab-df-convert\" onclick=\"convertToInteractive('df-913a36d3-0cbe-4d98-8511-46d51c89e243')\"\n",
              "              title=\"Convert this dataframe to an interactive table.\"\n",
              "              style=\"display:none;\">\n",
              "        \n",
              "  <svg xmlns=\"http://www.w3.org/2000/svg\" height=\"24px\"viewBox=\"0 0 24 24\"\n",
              "       width=\"24px\">\n",
              "    <path d=\"M0 0h24v24H0V0z\" fill=\"none\"/>\n",
              "    <path d=\"M18.56 5.44l.94 2.06.94-2.06 2.06-.94-2.06-.94-.94-2.06-.94 2.06-2.06.94zm-11 1L8.5 8.5l.94-2.06 2.06-.94-2.06-.94L8.5 2.5l-.94 2.06-2.06.94zm10 10l.94 2.06.94-2.06 2.06-.94-2.06-.94-.94-2.06-.94 2.06-2.06.94z\"/><path d=\"M17.41 7.96l-1.37-1.37c-.4-.4-.92-.59-1.43-.59-.52 0-1.04.2-1.43.59L10.3 9.45l-7.72 7.72c-.78.78-.78 2.05 0 2.83L4 21.41c.39.39.9.59 1.41.59.51 0 1.02-.2 1.41-.59l7.78-7.78 2.81-2.81c.8-.78.8-2.07 0-2.86zM5.41 20L4 18.59l7.72-7.72 1.47 1.35L5.41 20z\"/>\n",
              "  </svg>\n",
              "      </button>\n",
              "      \n",
              "  <style>\n",
              "    .colab-df-container {\n",
              "      display:flex;\n",
              "      flex-wrap:wrap;\n",
              "      gap: 12px;\n",
              "    }\n",
              "\n",
              "    .colab-df-convert {\n",
              "      background-color: #E8F0FE;\n",
              "      border: none;\n",
              "      border-radius: 50%;\n",
              "      cursor: pointer;\n",
              "      display: none;\n",
              "      fill: #1967D2;\n",
              "      height: 32px;\n",
              "      padding: 0 0 0 0;\n",
              "      width: 32px;\n",
              "    }\n",
              "\n",
              "    .colab-df-convert:hover {\n",
              "      background-color: #E2EBFA;\n",
              "      box-shadow: 0px 1px 2px rgba(60, 64, 67, 0.3), 0px 1px 3px 1px rgba(60, 64, 67, 0.15);\n",
              "      fill: #174EA6;\n",
              "    }\n",
              "\n",
              "    [theme=dark] .colab-df-convert {\n",
              "      background-color: #3B4455;\n",
              "      fill: #D2E3FC;\n",
              "    }\n",
              "\n",
              "    [theme=dark] .colab-df-convert:hover {\n",
              "      background-color: #434B5C;\n",
              "      box-shadow: 0px 1px 3px 1px rgba(0, 0, 0, 0.15);\n",
              "      filter: drop-shadow(0px 1px 2px rgba(0, 0, 0, 0.3));\n",
              "      fill: #FFFFFF;\n",
              "    }\n",
              "  </style>\n",
              "\n",
              "      <script>\n",
              "        const buttonEl =\n",
              "          document.querySelector('#df-913a36d3-0cbe-4d98-8511-46d51c89e243 button.colab-df-convert');\n",
              "        buttonEl.style.display =\n",
              "          google.colab.kernel.accessAllowed ? 'block' : 'none';\n",
              "\n",
              "        async function convertToInteractive(key) {\n",
              "          const element = document.querySelector('#df-913a36d3-0cbe-4d98-8511-46d51c89e243');\n",
              "          const dataTable =\n",
              "            await google.colab.kernel.invokeFunction('convertToInteractive',\n",
              "                                                     [key], {});\n",
              "          if (!dataTable) return;\n",
              "\n",
              "          const docLinkHtml = 'Like what you see? Visit the ' +\n",
              "            '<a target=\"_blank\" href=https://colab.research.google.com/notebooks/data_table.ipynb>data table notebook</a>'\n",
              "            + ' to learn more about interactive tables.';\n",
              "          element.innerHTML = '';\n",
              "          dataTable['output_type'] = 'display_data';\n",
              "          await google.colab.output.renderOutput(dataTable, element);\n",
              "          const docLink = document.createElement('div');\n",
              "          docLink.innerHTML = docLinkHtml;\n",
              "          element.appendChild(docLink);\n",
              "        }\n",
              "      </script>\n",
              "    </div>\n",
              "  </div>\n",
              "  "
            ]
          },
          "metadata": {},
          "execution_count": 18
        }
      ],
      "source": [
        "df.sample(6)"
      ]
    },
    {
      "cell_type": "code",
      "execution_count": 20,
      "metadata": {
        "execution": {
          "iopub.execute_input": "2023-03-23T12:25:24.436927Z",
          "iopub.status.busy": "2023-03-23T12:25:24.435827Z",
          "iopub.status.idle": "2023-03-23T12:25:24.444433Z",
          "shell.execute_reply": "2023-03-23T12:25:24.443365Z",
          "shell.execute_reply.started": "2023-03-23T12:25:24.436882Z"
        },
        "colab": {
          "base_uri": "https://localhost:8080/"
        },
        "id": "2MPPZ2wZdzxL",
        "outputId": "20cf97bb-52e8-4b3f-bb98-678260bdd62a"
      },
      "outputs": [
        {
          "output_type": "execute_result",
          "data": {
            "text/plain": [
              "array(['negative', 'positive', 'neutral'], dtype=object)"
            ]
          },
          "metadata": {},
          "execution_count": 20
        }
      ],
      "source": [
        "df['LABEL'].unique()"
      ]
    },
    {
      "cell_type": "markdown",
      "metadata": {
        "id": "01u1nLC0dzxM"
      },
      "source": [
        "### There are 3 Sentiments Observed in the Label Columns Namely Positive,Neutral,Negative . \n",
        "* With Neutral Comment as  Most Frequent\n",
        "\n",
        "\n",
        "---\n",
        "\n"
      ]
    },
    {
      "cell_type": "code",
      "execution_count": 21,
      "metadata": {
        "execution": {
          "iopub.execute_input": "2023-03-23T12:26:58.207258Z",
          "iopub.status.busy": "2023-03-23T12:26:58.206324Z",
          "iopub.status.idle": "2023-03-23T12:26:58.212479Z",
          "shell.execute_reply": "2023-03-23T12:26:58.211408Z",
          "shell.execute_reply.started": "2023-03-23T12:26:58.207219Z"
        },
        "colab": {
          "base_uri": "https://localhost:8080/"
        },
        "id": "q1GuDXXfdzxN",
        "outputId": "200799f7-d1fd-400e-c9ad-c702a9b5b176"
      },
      "outputs": [
        {
          "output_type": "execute_result",
          "data": {
            "text/plain": [
              "neutral     1771\n",
              "positive    1646\n",
              "negative    1452\n",
              "Name: LABEL, dtype: int64"
            ]
          },
          "metadata": {},
          "execution_count": 21
        }
      ],
      "source": [
        "df.LABEL.value_counts()"
      ]
    },
    {
      "cell_type": "markdown",
      "metadata": {
        "id": "dudM1hbwdzxP"
      },
      "source": [
        "## Cleaning data and Lemmatization"
      ]
    },
    {
      "cell_type": "code",
      "source": [
        "pip install emoji"
      ],
      "metadata": {
        "colab": {
          "base_uri": "https://localhost:8080/"
        },
        "id": "AGUmSPWMiOaV",
        "outputId": "f3319fc2-01a3-4632-9d89-81ee01fb8763"
      },
      "execution_count": 25,
      "outputs": [
        {
          "output_type": "stream",
          "name": "stdout",
          "text": [
            "Looking in indexes: https://pypi.org/simple, https://us-python.pkg.dev/colab-wheels/public/simple/\n",
            "Collecting emoji\n",
            "  Downloading emoji-2.2.0.tar.gz (240 kB)\n",
            "\u001b[2K     \u001b[90m━━━━━━━━━━━━━━━━━━━━━━━━━━━━━━━━━━━━━━━\u001b[0m \u001b[32m240.9/240.9 kB\u001b[0m \u001b[31m6.0 MB/s\u001b[0m eta \u001b[36m0:00:00\u001b[0m\n",
            "\u001b[?25h  Preparing metadata (setup.py) ... \u001b[?25l\u001b[?25hdone\n",
            "Building wheels for collected packages: emoji\n",
            "  Building wheel for emoji (setup.py) ... \u001b[?25l\u001b[?25hdone\n",
            "  Created wheel for emoji: filename=emoji-2.2.0-py3-none-any.whl size=234911 sha256=7ee4baa4450c031e1c9c635ad4e16a5d57190e78a068b7b3402536bd82b2ea7c\n",
            "  Stored in directory: /root/.cache/pip/wheels/02/3d/88/51a592b9ad17e7899126563698b4e3961983ebe85747228ba6\n",
            "Successfully built emoji\n",
            "Installing collected packages: emoji\n",
            "Successfully installed emoji-2.2.0\n"
          ]
        }
      ]
    },
    {
      "cell_type": "code",
      "source": [
        "import emoji"
      ],
      "metadata": {
        "id": "S_i-nzAwiTSI"
      },
      "execution_count": 26,
      "outputs": []
    },
    {
      "cell_type": "code",
      "execution_count": 23,
      "metadata": {
        "execution": {
          "iopub.execute_input": "2023-03-23T12:33:31.534031Z",
          "iopub.status.busy": "2023-03-23T12:33:31.533491Z",
          "iopub.status.idle": "2023-03-23T12:33:31.545543Z",
          "shell.execute_reply": "2023-03-23T12:33:31.544627Z",
          "shell.execute_reply.started": "2023-03-23T12:33:31.533998Z"
        },
        "colab": {
          "base_uri": "https://localhost:8080/",
          "height": 206
        },
        "id": "lag9U2sNdzxP",
        "outputId": "f9898f80-0a07-4d31-cf99-f45626f87e7e"
      },
      "outputs": [
        {
          "output_type": "execute_result",
          "data": {
            "text/plain": [
              "  File Name                                            Caption     LABEL\n",
              "0     1.txt      How I feel today #legday #jelly #aching #gym   negative\n",
              "1    10.txt  @ArrivaTW absolute disgrace two carriages from...  negative\n",
              "2   100.txt  This is my Valentine's from 1 of my nephews. I...  positive\n",
              "3  1000.txt  betterfeelingfilms: RT via Instagram: First da...   neutral\n",
              "4  1001.txt         Zoe's first love #Rattled @JohnnyHarper15   positive"
            ],
            "text/html": [
              "\n",
              "  <div id=\"df-27cbac99-e951-49cf-bfa4-3351dca82fed\">\n",
              "    <div class=\"colab-df-container\">\n",
              "      <div>\n",
              "<style scoped>\n",
              "    .dataframe tbody tr th:only-of-type {\n",
              "        vertical-align: middle;\n",
              "    }\n",
              "\n",
              "    .dataframe tbody tr th {\n",
              "        vertical-align: top;\n",
              "    }\n",
              "\n",
              "    .dataframe thead th {\n",
              "        text-align: right;\n",
              "    }\n",
              "</style>\n",
              "<table border=\"1\" class=\"dataframe\">\n",
              "  <thead>\n",
              "    <tr style=\"text-align: right;\">\n",
              "      <th></th>\n",
              "      <th>File Name</th>\n",
              "      <th>Caption</th>\n",
              "      <th>LABEL</th>\n",
              "    </tr>\n",
              "  </thead>\n",
              "  <tbody>\n",
              "    <tr>\n",
              "      <th>0</th>\n",
              "      <td>1.txt</td>\n",
              "      <td>How I feel today #legday #jelly #aching #gym</td>\n",
              "      <td>negative</td>\n",
              "    </tr>\n",
              "    <tr>\n",
              "      <th>1</th>\n",
              "      <td>10.txt</td>\n",
              "      <td>@ArrivaTW absolute disgrace two carriages from...</td>\n",
              "      <td>negative</td>\n",
              "    </tr>\n",
              "    <tr>\n",
              "      <th>2</th>\n",
              "      <td>100.txt</td>\n",
              "      <td>This is my Valentine's from 1 of my nephews. I...</td>\n",
              "      <td>positive</td>\n",
              "    </tr>\n",
              "    <tr>\n",
              "      <th>3</th>\n",
              "      <td>1000.txt</td>\n",
              "      <td>betterfeelingfilms: RT via Instagram: First da...</td>\n",
              "      <td>neutral</td>\n",
              "    </tr>\n",
              "    <tr>\n",
              "      <th>4</th>\n",
              "      <td>1001.txt</td>\n",
              "      <td>Zoe's first love #Rattled @JohnnyHarper15</td>\n",
              "      <td>positive</td>\n",
              "    </tr>\n",
              "  </tbody>\n",
              "</table>\n",
              "</div>\n",
              "      <button class=\"colab-df-convert\" onclick=\"convertToInteractive('df-27cbac99-e951-49cf-bfa4-3351dca82fed')\"\n",
              "              title=\"Convert this dataframe to an interactive table.\"\n",
              "              style=\"display:none;\">\n",
              "        \n",
              "  <svg xmlns=\"http://www.w3.org/2000/svg\" height=\"24px\"viewBox=\"0 0 24 24\"\n",
              "       width=\"24px\">\n",
              "    <path d=\"M0 0h24v24H0V0z\" fill=\"none\"/>\n",
              "    <path d=\"M18.56 5.44l.94 2.06.94-2.06 2.06-.94-2.06-.94-.94-2.06-.94 2.06-2.06.94zm-11 1L8.5 8.5l.94-2.06 2.06-.94-2.06-.94L8.5 2.5l-.94 2.06-2.06.94zm10 10l.94 2.06.94-2.06 2.06-.94-2.06-.94-.94-2.06-.94 2.06-2.06.94z\"/><path d=\"M17.41 7.96l-1.37-1.37c-.4-.4-.92-.59-1.43-.59-.52 0-1.04.2-1.43.59L10.3 9.45l-7.72 7.72c-.78.78-.78 2.05 0 2.83L4 21.41c.39.39.9.59 1.41.59.51 0 1.02-.2 1.41-.59l7.78-7.78 2.81-2.81c.8-.78.8-2.07 0-2.86zM5.41 20L4 18.59l7.72-7.72 1.47 1.35L5.41 20z\"/>\n",
              "  </svg>\n",
              "      </button>\n",
              "      \n",
              "  <style>\n",
              "    .colab-df-container {\n",
              "      display:flex;\n",
              "      flex-wrap:wrap;\n",
              "      gap: 12px;\n",
              "    }\n",
              "\n",
              "    .colab-df-convert {\n",
              "      background-color: #E8F0FE;\n",
              "      border: none;\n",
              "      border-radius: 50%;\n",
              "      cursor: pointer;\n",
              "      display: none;\n",
              "      fill: #1967D2;\n",
              "      height: 32px;\n",
              "      padding: 0 0 0 0;\n",
              "      width: 32px;\n",
              "    }\n",
              "\n",
              "    .colab-df-convert:hover {\n",
              "      background-color: #E2EBFA;\n",
              "      box-shadow: 0px 1px 2px rgba(60, 64, 67, 0.3), 0px 1px 3px 1px rgba(60, 64, 67, 0.15);\n",
              "      fill: #174EA6;\n",
              "    }\n",
              "\n",
              "    [theme=dark] .colab-df-convert {\n",
              "      background-color: #3B4455;\n",
              "      fill: #D2E3FC;\n",
              "    }\n",
              "\n",
              "    [theme=dark] .colab-df-convert:hover {\n",
              "      background-color: #434B5C;\n",
              "      box-shadow: 0px 1px 3px 1px rgba(0, 0, 0, 0.15);\n",
              "      filter: drop-shadow(0px 1px 2px rgba(0, 0, 0, 0.3));\n",
              "      fill: #FFFFFF;\n",
              "    }\n",
              "  </style>\n",
              "\n",
              "      <script>\n",
              "        const buttonEl =\n",
              "          document.querySelector('#df-27cbac99-e951-49cf-bfa4-3351dca82fed button.colab-df-convert');\n",
              "        buttonEl.style.display =\n",
              "          google.colab.kernel.accessAllowed ? 'block' : 'none';\n",
              "\n",
              "        async function convertToInteractive(key) {\n",
              "          const element = document.querySelector('#df-27cbac99-e951-49cf-bfa4-3351dca82fed');\n",
              "          const dataTable =\n",
              "            await google.colab.kernel.invokeFunction('convertToInteractive',\n",
              "                                                     [key], {});\n",
              "          if (!dataTable) return;\n",
              "\n",
              "          const docLinkHtml = 'Like what you see? Visit the ' +\n",
              "            '<a target=\"_blank\" href=https://colab.research.google.com/notebooks/data_table.ipynb>data table notebook</a>'\n",
              "            + ' to learn more about interactive tables.';\n",
              "          element.innerHTML = '';\n",
              "          dataTable['output_type'] = 'display_data';\n",
              "          await google.colab.output.renderOutput(dataTable, element);\n",
              "          const docLink = document.createElement('div');\n",
              "          docLink.innerHTML = docLinkHtml;\n",
              "          element.appendChild(docLink);\n",
              "        }\n",
              "      </script>\n",
              "    </div>\n",
              "  </div>\n",
              "  "
            ]
          },
          "metadata": {},
          "execution_count": 23
        }
      ],
      "source": [
        "df.head()"
      ]
    },
    {
      "cell_type": "code",
      "execution_count": 27,
      "metadata": {
        "execution": {
          "iopub.execute_input": "2023-03-23T12:33:01.452711Z",
          "iopub.status.busy": "2023-03-23T12:33:01.452364Z",
          "iopub.status.idle": "2023-03-23T12:33:01.670098Z",
          "shell.execute_reply": "2023-03-23T12:33:01.668791Z",
          "shell.execute_reply.started": "2023-03-23T12:33:01.452685Z"
        },
        "colab": {
          "base_uri": "https://localhost:8080/",
          "height": 206
        },
        "id": "FVno6NvGdzxQ",
        "outputId": "176a9502-2401-42e2-fee7-acdff7301890"
      },
      "outputs": [
        {
          "output_type": "execute_result",
          "data": {
            "text/plain": [
              "     File Name                                            Caption     LABEL  \\\n",
              "2293  3279.txt  RT @Wimbledon: With help from @toddwoodbridge,...  negative   \n",
              "4474   643.txt  RT @BosTeenAuthFest: We're thrilled to announc...  positive   \n",
              "3769  4625.txt  #FanArmyFaceOff #Directioners http://t.co/YyPn...   neutral   \n",
              "3451  4339.txt  RT @kj_fetishmodel: heres some grocery butt ht...   neutral   \n",
              "4308   511.txt  RT @501stLegion: RT @501NEG: 2 things a Stormt...  negative   \n",
              "\n",
              "                                           cleanedTweet  \n",
              "2293  rt  wimbledon  with help from  toddwoodbridge ...  \n",
              "4474  rt  bosteenauthfest  we re thrilled to announc...  \n",
              "3769   fanarmyfaceoff  directioners http   t co yypn...  \n",
              "3451  rt  kj fetishmodel  heres some grocery butt ht...  \n",
              "4308  rt     stlegion  rt     neg    things a stormt...  "
            ],
            "text/html": [
              "\n",
              "  <div id=\"df-6e1f0e81-f7e2-41da-a63e-9c6cacdda8c5\">\n",
              "    <div class=\"colab-df-container\">\n",
              "      <div>\n",
              "<style scoped>\n",
              "    .dataframe tbody tr th:only-of-type {\n",
              "        vertical-align: middle;\n",
              "    }\n",
              "\n",
              "    .dataframe tbody tr th {\n",
              "        vertical-align: top;\n",
              "    }\n",
              "\n",
              "    .dataframe thead th {\n",
              "        text-align: right;\n",
              "    }\n",
              "</style>\n",
              "<table border=\"1\" class=\"dataframe\">\n",
              "  <thead>\n",
              "    <tr style=\"text-align: right;\">\n",
              "      <th></th>\n",
              "      <th>File Name</th>\n",
              "      <th>Caption</th>\n",
              "      <th>LABEL</th>\n",
              "      <th>cleanedTweet</th>\n",
              "    </tr>\n",
              "  </thead>\n",
              "  <tbody>\n",
              "    <tr>\n",
              "      <th>2293</th>\n",
              "      <td>3279.txt</td>\n",
              "      <td>RT @Wimbledon: With help from @toddwoodbridge,...</td>\n",
              "      <td>negative</td>\n",
              "      <td>rt  wimbledon  with help from  toddwoodbridge ...</td>\n",
              "    </tr>\n",
              "    <tr>\n",
              "      <th>4474</th>\n",
              "      <td>643.txt</td>\n",
              "      <td>RT @BosTeenAuthFest: We're thrilled to announc...</td>\n",
              "      <td>positive</td>\n",
              "      <td>rt  bosteenauthfest  we re thrilled to announc...</td>\n",
              "    </tr>\n",
              "    <tr>\n",
              "      <th>3769</th>\n",
              "      <td>4625.txt</td>\n",
              "      <td>#FanArmyFaceOff #Directioners http://t.co/YyPn...</td>\n",
              "      <td>neutral</td>\n",
              "      <td>fanarmyfaceoff  directioners http   t co yypn...</td>\n",
              "    </tr>\n",
              "    <tr>\n",
              "      <th>3451</th>\n",
              "      <td>4339.txt</td>\n",
              "      <td>RT @kj_fetishmodel: heres some grocery butt ht...</td>\n",
              "      <td>neutral</td>\n",
              "      <td>rt  kj fetishmodel  heres some grocery butt ht...</td>\n",
              "    </tr>\n",
              "    <tr>\n",
              "      <th>4308</th>\n",
              "      <td>511.txt</td>\n",
              "      <td>RT @501stLegion: RT @501NEG: 2 things a Stormt...</td>\n",
              "      <td>negative</td>\n",
              "      <td>rt     stlegion  rt     neg    things a stormt...</td>\n",
              "    </tr>\n",
              "  </tbody>\n",
              "</table>\n",
              "</div>\n",
              "      <button class=\"colab-df-convert\" onclick=\"convertToInteractive('df-6e1f0e81-f7e2-41da-a63e-9c6cacdda8c5')\"\n",
              "              title=\"Convert this dataframe to an interactive table.\"\n",
              "              style=\"display:none;\">\n",
              "        \n",
              "  <svg xmlns=\"http://www.w3.org/2000/svg\" height=\"24px\"viewBox=\"0 0 24 24\"\n",
              "       width=\"24px\">\n",
              "    <path d=\"M0 0h24v24H0V0z\" fill=\"none\"/>\n",
              "    <path d=\"M18.56 5.44l.94 2.06.94-2.06 2.06-.94-2.06-.94-.94-2.06-.94 2.06-2.06.94zm-11 1L8.5 8.5l.94-2.06 2.06-.94-2.06-.94L8.5 2.5l-.94 2.06-2.06.94zm10 10l.94 2.06.94-2.06 2.06-.94-2.06-.94-.94-2.06-.94 2.06-2.06.94z\"/><path d=\"M17.41 7.96l-1.37-1.37c-.4-.4-.92-.59-1.43-.59-.52 0-1.04.2-1.43.59L10.3 9.45l-7.72 7.72c-.78.78-.78 2.05 0 2.83L4 21.41c.39.39.9.59 1.41.59.51 0 1.02-.2 1.41-.59l7.78-7.78 2.81-2.81c.8-.78.8-2.07 0-2.86zM5.41 20L4 18.59l7.72-7.72 1.47 1.35L5.41 20z\"/>\n",
              "  </svg>\n",
              "      </button>\n",
              "      \n",
              "  <style>\n",
              "    .colab-df-container {\n",
              "      display:flex;\n",
              "      flex-wrap:wrap;\n",
              "      gap: 12px;\n",
              "    }\n",
              "\n",
              "    .colab-df-convert {\n",
              "      background-color: #E8F0FE;\n",
              "      border: none;\n",
              "      border-radius: 50%;\n",
              "      cursor: pointer;\n",
              "      display: none;\n",
              "      fill: #1967D2;\n",
              "      height: 32px;\n",
              "      padding: 0 0 0 0;\n",
              "      width: 32px;\n",
              "    }\n",
              "\n",
              "    .colab-df-convert:hover {\n",
              "      background-color: #E2EBFA;\n",
              "      box-shadow: 0px 1px 2px rgba(60, 64, 67, 0.3), 0px 1px 3px 1px rgba(60, 64, 67, 0.15);\n",
              "      fill: #174EA6;\n",
              "    }\n",
              "\n",
              "    [theme=dark] .colab-df-convert {\n",
              "      background-color: #3B4455;\n",
              "      fill: #D2E3FC;\n",
              "    }\n",
              "\n",
              "    [theme=dark] .colab-df-convert:hover {\n",
              "      background-color: #434B5C;\n",
              "      box-shadow: 0px 1px 3px 1px rgba(0, 0, 0, 0.15);\n",
              "      filter: drop-shadow(0px 1px 2px rgba(0, 0, 0, 0.3));\n",
              "      fill: #FFFFFF;\n",
              "    }\n",
              "  </style>\n",
              "\n",
              "      <script>\n",
              "        const buttonEl =\n",
              "          document.querySelector('#df-6e1f0e81-f7e2-41da-a63e-9c6cacdda8c5 button.colab-df-convert');\n",
              "        buttonEl.style.display =\n",
              "          google.colab.kernel.accessAllowed ? 'block' : 'none';\n",
              "\n",
              "        async function convertToInteractive(key) {\n",
              "          const element = document.querySelector('#df-6e1f0e81-f7e2-41da-a63e-9c6cacdda8c5');\n",
              "          const dataTable =\n",
              "            await google.colab.kernel.invokeFunction('convertToInteractive',\n",
              "                                                     [key], {});\n",
              "          if (!dataTable) return;\n",
              "\n",
              "          const docLinkHtml = 'Like what you see? Visit the ' +\n",
              "            '<a target=\"_blank\" href=https://colab.research.google.com/notebooks/data_table.ipynb>data table notebook</a>'\n",
              "            + ' to learn more about interactive tables.';\n",
              "          element.innerHTML = '';\n",
              "          dataTable['output_type'] = 'display_data';\n",
              "          await google.colab.output.renderOutput(dataTable, element);\n",
              "          const docLink = document.createElement('div');\n",
              "          docLink.innerHTML = docLinkHtml;\n",
              "          element.appendChild(docLink);\n",
              "        }\n",
              "      </script>\n",
              "    </div>\n",
              "  </div>\n",
              "  "
            ]
          },
          "metadata": {},
          "execution_count": 27
        }
      ],
      "source": [
        "def cleanTweets(text):\n",
        "    text = re.sub('[^a-zA-Z]', ' ', str(text).lower().strip())\n",
        "    text = re.sub('@[A-Za-z0-9_]+', '', text) \n",
        "    text = re.sub('#','',text) \n",
        "    text = re.sub('RT[\\s]+','',text)\n",
        "    text = re.sub('https?:\\/\\/\\S+', '', text) \n",
        "    text = re.sub('\\n',' ',text)\n",
        "    text = emoji.replace_emoji(text, replace='')\n",
        "    return text\n",
        "df['cleanedTweet'] = df['Caption'].apply(cleanTweets) \n",
        "df.sample(5)"
      ]
    },
    {
      "cell_type": "markdown",
      "source": [
        "# Text PreProcessing"
      ],
      "metadata": {
        "id": "4dQkUtWFiZgQ"
      }
    },
    {
      "cell_type": "code",
      "execution_count": 29,
      "metadata": {
        "execution": {
          "iopub.execute_input": "2023-03-23T12:33:51.810706Z",
          "iopub.status.busy": "2023-03-23T12:33:51.809604Z",
          "iopub.status.idle": "2023-03-23T12:34:23.679Z",
          "shell.execute_reply": "2023-03-23T12:34:23.678013Z",
          "shell.execute_reply.started": "2023-03-23T12:33:51.810642Z"
        },
        "colab": {
          "base_uri": "https://localhost:8080/",
          "height": 206
        },
        "id": "wYD1ypHJdzxQ",
        "outputId": "afeaea0f-a736-43cf-cde9-3b552cb8be4b"
      },
      "outputs": [
        {
          "output_type": "execute_result",
          "data": {
            "text/plain": [
              "     File Name                                            Caption     LABEL  \\\n",
              "3379  4274.txt  RT @eNCA: S Sudan troops 'crushed civilians wi...  negative   \n",
              "86    1076.txt  With the 2015 class signed, we're turning our ...  positive   \n",
              "629   1565.txt  RT @MiaLarson: Via @thejenwilkinson: Who are w...  negative   \n",
              "2841  3783.txt  RT @TennisAtlantic: Newport Problems: @klein_b...  negative   \n",
              "3748  4606.txt  Right now on Sky looks like a battle of good @...  positive   \n",
              "\n",
              "                                           cleanedTweet  \n",
              "3379  rt   enca   s sudan troop   crush civilian tan...  \n",
              "86          class sign   turn focus       class     ...  \n",
              "629   rt   mialarson     thejenwilkinson   willing h...  \n",
              "2841  rt   tennisatlantic   newport problem    klein...  \n",
              "3748  right sky look like battle good   owenjone    ...  "
            ],
            "text/html": [
              "\n",
              "  <div id=\"df-bec0a135-8153-472a-a81a-76459d487097\">\n",
              "    <div class=\"colab-df-container\">\n",
              "      <div>\n",
              "<style scoped>\n",
              "    .dataframe tbody tr th:only-of-type {\n",
              "        vertical-align: middle;\n",
              "    }\n",
              "\n",
              "    .dataframe tbody tr th {\n",
              "        vertical-align: top;\n",
              "    }\n",
              "\n",
              "    .dataframe thead th {\n",
              "        text-align: right;\n",
              "    }\n",
              "</style>\n",
              "<table border=\"1\" class=\"dataframe\">\n",
              "  <thead>\n",
              "    <tr style=\"text-align: right;\">\n",
              "      <th></th>\n",
              "      <th>File Name</th>\n",
              "      <th>Caption</th>\n",
              "      <th>LABEL</th>\n",
              "      <th>cleanedTweet</th>\n",
              "    </tr>\n",
              "  </thead>\n",
              "  <tbody>\n",
              "    <tr>\n",
              "      <th>3379</th>\n",
              "      <td>4274.txt</td>\n",
              "      <td>RT @eNCA: S Sudan troops 'crushed civilians wi...</td>\n",
              "      <td>negative</td>\n",
              "      <td>rt   enca   s sudan troop   crush civilian tan...</td>\n",
              "    </tr>\n",
              "    <tr>\n",
              "      <th>86</th>\n",
              "      <td>1076.txt</td>\n",
              "      <td>With the 2015 class signed, we're turning our ...</td>\n",
              "      <td>positive</td>\n",
              "      <td>class sign   turn focus       class     ...</td>\n",
              "    </tr>\n",
              "    <tr>\n",
              "      <th>629</th>\n",
              "      <td>1565.txt</td>\n",
              "      <td>RT @MiaLarson: Via @thejenwilkinson: Who are w...</td>\n",
              "      <td>negative</td>\n",
              "      <td>rt   mialarson     thejenwilkinson   willing h...</td>\n",
              "    </tr>\n",
              "    <tr>\n",
              "      <th>2841</th>\n",
              "      <td>3783.txt</td>\n",
              "      <td>RT @TennisAtlantic: Newport Problems: @klein_b...</td>\n",
              "      <td>negative</td>\n",
              "      <td>rt   tennisatlantic   newport problem    klein...</td>\n",
              "    </tr>\n",
              "    <tr>\n",
              "      <th>3748</th>\n",
              "      <td>4606.txt</td>\n",
              "      <td>Right now on Sky looks like a battle of good @...</td>\n",
              "      <td>positive</td>\n",
              "      <td>right sky look like battle good   owenjone    ...</td>\n",
              "    </tr>\n",
              "  </tbody>\n",
              "</table>\n",
              "</div>\n",
              "      <button class=\"colab-df-convert\" onclick=\"convertToInteractive('df-bec0a135-8153-472a-a81a-76459d487097')\"\n",
              "              title=\"Convert this dataframe to an interactive table.\"\n",
              "              style=\"display:none;\">\n",
              "        \n",
              "  <svg xmlns=\"http://www.w3.org/2000/svg\" height=\"24px\"viewBox=\"0 0 24 24\"\n",
              "       width=\"24px\">\n",
              "    <path d=\"M0 0h24v24H0V0z\" fill=\"none\"/>\n",
              "    <path d=\"M18.56 5.44l.94 2.06.94-2.06 2.06-.94-2.06-.94-.94-2.06-.94 2.06-2.06.94zm-11 1L8.5 8.5l.94-2.06 2.06-.94-2.06-.94L8.5 2.5l-.94 2.06-2.06.94zm10 10l.94 2.06.94-2.06 2.06-.94-2.06-.94-.94-2.06-.94 2.06-2.06.94z\"/><path d=\"M17.41 7.96l-1.37-1.37c-.4-.4-.92-.59-1.43-.59-.52 0-1.04.2-1.43.59L10.3 9.45l-7.72 7.72c-.78.78-.78 2.05 0 2.83L4 21.41c.39.39.9.59 1.41.59.51 0 1.02-.2 1.41-.59l7.78-7.78 2.81-2.81c.8-.78.8-2.07 0-2.86zM5.41 20L4 18.59l7.72-7.72 1.47 1.35L5.41 20z\"/>\n",
              "  </svg>\n",
              "      </button>\n",
              "      \n",
              "  <style>\n",
              "    .colab-df-container {\n",
              "      display:flex;\n",
              "      flex-wrap:wrap;\n",
              "      gap: 12px;\n",
              "    }\n",
              "\n",
              "    .colab-df-convert {\n",
              "      background-color: #E8F0FE;\n",
              "      border: none;\n",
              "      border-radius: 50%;\n",
              "      cursor: pointer;\n",
              "      display: none;\n",
              "      fill: #1967D2;\n",
              "      height: 32px;\n",
              "      padding: 0 0 0 0;\n",
              "      width: 32px;\n",
              "    }\n",
              "\n",
              "    .colab-df-convert:hover {\n",
              "      background-color: #E2EBFA;\n",
              "      box-shadow: 0px 1px 2px rgba(60, 64, 67, 0.3), 0px 1px 3px 1px rgba(60, 64, 67, 0.15);\n",
              "      fill: #174EA6;\n",
              "    }\n",
              "\n",
              "    [theme=dark] .colab-df-convert {\n",
              "      background-color: #3B4455;\n",
              "      fill: #D2E3FC;\n",
              "    }\n",
              "\n",
              "    [theme=dark] .colab-df-convert:hover {\n",
              "      background-color: #434B5C;\n",
              "      box-shadow: 0px 1px 3px 1px rgba(0, 0, 0, 0.15);\n",
              "      filter: drop-shadow(0px 1px 2px rgba(0, 0, 0, 0.3));\n",
              "      fill: #FFFFFF;\n",
              "    }\n",
              "  </style>\n",
              "\n",
              "      <script>\n",
              "        const buttonEl =\n",
              "          document.querySelector('#df-bec0a135-8153-472a-a81a-76459d487097 button.colab-df-convert');\n",
              "        buttonEl.style.display =\n",
              "          google.colab.kernel.accessAllowed ? 'block' : 'none';\n",
              "\n",
              "        async function convertToInteractive(key) {\n",
              "          const element = document.querySelector('#df-bec0a135-8153-472a-a81a-76459d487097');\n",
              "          const dataTable =\n",
              "            await google.colab.kernel.invokeFunction('convertToInteractive',\n",
              "                                                     [key], {});\n",
              "          if (!dataTable) return;\n",
              "\n",
              "          const docLinkHtml = 'Like what you see? Visit the ' +\n",
              "            '<a target=\"_blank\" href=https://colab.research.google.com/notebooks/data_table.ipynb>data table notebook</a>'\n",
              "            + ' to learn more about interactive tables.';\n",
              "          element.innerHTML = '';\n",
              "          dataTable['output_type'] = 'display_data';\n",
              "          await google.colab.output.renderOutput(dataTable, element);\n",
              "          const docLink = document.createElement('div');\n",
              "          docLink.innerHTML = docLinkHtml;\n",
              "          element.appendChild(docLink);\n",
              "        }\n",
              "      </script>\n",
              "    </div>\n",
              "  </div>\n",
              "  "
            ]
          },
          "metadata": {},
          "execution_count": 29
        }
      ],
      "source": [
        "def text_preprocessing(text):\n",
        "    doc = nlp(text)\n",
        "    tokens = [token.lemma_.lower() for token in doc if not token.is_stop and not token.is_punct]\n",
        "    return ' '.join(tokens)\n",
        "df['cleanedTweet'] = df['cleanedTweet'].apply(text_preprocessing)\n",
        "df.sample(5)"
      ]
    },
    {
      "cell_type": "markdown",
      "source": [
        "**After Some Cleaning and Preprocessing we Can Clearly Observe the Changes in the Cleaned Tweets vs Caption**"
      ],
      "metadata": {
        "id": "yJqAELtYdzxR"
      }
    },
    {
      "cell_type": "markdown",
      "metadata": {
        "id": "QsdQ8cK8dzxR"
      },
      "source": [
        "# Split the dataset"
      ]
    },
    {
      "cell_type": "code",
      "execution_count": 32,
      "metadata": {
        "execution": {
          "iopub.execute_input": "2023-03-23T12:34:49.474233Z",
          "iopub.status.busy": "2023-03-23T12:34:49.473895Z",
          "iopub.status.idle": "2023-03-23T12:34:49.486225Z",
          "shell.execute_reply": "2023-03-23T12:34:49.484971Z",
          "shell.execute_reply.started": "2023-03-23T12:34:49.474205Z"
        },
        "id": "M6pEPmScdzxS"
      },
      "outputs": [],
      "source": [
        "X = df['cleanedTweet']\n",
        "y = df['LABEL']\n",
        "\n",
        "X_train, X_test, y_train, y_test = train_test_split(X,y,test_size = 0.2,shuffle=True,stratify=y)"
      ]
    },
    {
      "cell_type": "markdown",
      "metadata": {
        "execution": {
          "iopub.execute_input": "2023-03-23T12:39:38.973037Z",
          "iopub.status.busy": "2023-03-23T12:39:38.971948Z",
          "iopub.status.idle": "2023-03-23T12:39:38.980003Z",
          "shell.execute_reply": "2023-03-23T12:39:38.978756Z",
          "shell.execute_reply.started": "2023-03-23T12:39:38.972957Z"
        },
        "id": "_xiulBiYdzxS"
      },
      "source": [
        "**Why We Use Multinomial naive bayes ?**\n",
        "\n",
        "-->The multinomial model provides an ability to classify data, that cannot be represented numerically. Its main advantage is the significantly reduced complexity. It provides an ability to perform the classification, using small training sets, not requiring to be continuously re-trained."
      ]
    },
    {
      "cell_type": "code",
      "execution_count": 33,
      "metadata": {
        "execution": {
          "iopub.execute_input": "2023-03-23T12:40:01.699155Z",
          "iopub.status.busy": "2023-03-23T12:40:01.698622Z",
          "iopub.status.idle": "2023-03-23T12:40:01.778153Z",
          "shell.execute_reply": "2023-03-23T12:40:01.777045Z",
          "shell.execute_reply.started": "2023-03-23T12:40:01.699122Z"
        },
        "id": "71CWBEGkdzxU"
      },
      "outputs": [],
      "source": [
        "vectorizer = CountVectorizer()\n",
        "X_train = vectorizer.fit_transform(X_train)\n",
        "X_test = vectorizer.transform(X_test)"
      ]
    },
    {
      "cell_type": "code",
      "execution_count": 34,
      "metadata": {
        "execution": {
          "iopub.execute_input": "2023-03-23T12:40:14.285396Z",
          "iopub.status.busy": "2023-03-23T12:40:14.284448Z",
          "iopub.status.idle": "2023-03-23T12:40:14.304449Z",
          "shell.execute_reply": "2023-03-23T12:40:14.302747Z",
          "shell.execute_reply.started": "2023-03-23T12:40:14.285358Z"
        },
        "colab": {
          "base_uri": "https://localhost:8080/"
        },
        "id": "OAezqEDldzxV",
        "outputId": "b9e840e4-56c6-4f7f-fca6-fa356efb0955"
      },
      "outputs": [
        {
          "output_type": "execute_result",
          "data": {
            "text/plain": [
              "0.9658536585365853"
            ]
          },
          "metadata": {},
          "execution_count": 34
        }
      ],
      "source": [
        "model = MultinomialNB()\n",
        "model.fit(X_train,y_train)\n",
        "model.score(X_train,y_train)"
      ]
    },
    {
      "cell_type": "code",
      "execution_count": 35,
      "metadata": {
        "execution": {
          "iopub.execute_input": "2023-03-23T12:40:28.300192Z",
          "iopub.status.busy": "2023-03-23T12:40:28.299568Z",
          "iopub.status.idle": "2023-03-23T12:40:28.307577Z",
          "shell.execute_reply": "2023-03-23T12:40:28.306542Z",
          "shell.execute_reply.started": "2023-03-23T12:40:28.300148Z"
        },
        "colab": {
          "base_uri": "https://localhost:8080/"
        },
        "id": "C1QYoO6edzxW",
        "outputId": "c9267491-8b36-4adb-80a9-5ec94e15648b"
      },
      "outputs": [
        {
          "output_type": "stream",
          "name": "stdout",
          "text": [
            "0.6919917864476386\n"
          ]
        }
      ],
      "source": [
        "y_pred = model.predict(X_test)\n",
        "accuracy = accuracy_score(y_test,y_pred)\n",
        "print(accuracy)"
      ]
    },
    {
      "cell_type": "code",
      "source": [
        "from sklearn.metrics import classification_report"
      ],
      "metadata": {
        "id": "W_xP4YkDkUAX"
      },
      "execution_count": 37,
      "outputs": []
    },
    {
      "cell_type": "code",
      "source": [
        "print(classification_report(y_test,y_pred))"
      ],
      "metadata": {
        "colab": {
          "base_uri": "https://localhost:8080/"
        },
        "id": "rmSo7tHAke-M",
        "outputId": "fb1bbe10-0c92-4a10-980e-c6ad029ad9c3"
      },
      "execution_count": 38,
      "outputs": [
        {
          "output_type": "stream",
          "name": "stdout",
          "text": [
            "              precision    recall  f1-score   support\n",
            "\n",
            "    negative       0.69      0.64      0.66       291\n",
            "     neutral       0.65      0.60      0.63       354\n",
            "    positive       0.73      0.84      0.78       329\n",
            "\n",
            "    accuracy                           0.69       974\n",
            "   macro avg       0.69      0.69      0.69       974\n",
            "weighted avg       0.69      0.69      0.69       974\n",
            "\n"
          ]
        }
      ]
    },
    {
      "cell_type": "code",
      "execution_count": 39,
      "metadata": {
        "execution": {
          "iopub.execute_input": "2023-03-23T12:41:37.564151Z",
          "iopub.status.busy": "2023-03-23T12:41:37.563784Z",
          "iopub.status.idle": "2023-03-23T12:41:37.743578Z",
          "shell.execute_reply": "2023-03-23T12:41:37.742792Z",
          "shell.execute_reply.started": "2023-03-23T12:41:37.564112Z"
        },
        "colab": {
          "base_uri": "https://localhost:8080/",
          "height": 449
        },
        "id": "pDK3YlCzdzxX",
        "outputId": "d645ae2c-1a42-4ef8-db8e-d6f87d881213"
      },
      "outputs": [
        {
          "output_type": "display_data",
          "data": {
            "text/plain": [
              "<Figure size 640x480 with 2 Axes>"
            ],
            "image/png": "[encoded data removed]"
          },
          "metadata": {}
        }
      ],
      "source": [
        "cf = confusion_matrix(y_test, y_pred)\n",
        "plotcf = ConfusionMatrixDisplay(cf)\n",
        "plotcf.plot()\n",
        "plt.show()\n"
      ]
    },
    {
      "cell_type": "markdown",
      "source": [
        "# Lets Try TF-IDF Vectoriser"
      ],
      "metadata": {
        "id": "cULuu44SdzxY"
      }
    },
    {
      "cell_type": "code",
      "source": [
        "X = df['cleanedTweet']\n",
        "y = df['LABEL']\n",
        "\n",
        "X_train, X_test, y_train, y_test = train_test_split(X,y,test_size = 0.2,shuffle=True)"
      ],
      "metadata": {
        "id": "vEOfPoKrlPmg"
      },
      "execution_count": 43,
      "outputs": []
    },
    {
      "cell_type": "code",
      "source": [
        "vectorizer = TfidfVectorizer()\n",
        "X_train = vectorizer.fit_transform(X_train)\n",
        "X_test = vectorizer.transform(X_test)"
      ],
      "metadata": {
        "id": "oFAhWkmokyiE"
      },
      "execution_count": 44,
      "outputs": []
    },
    {
      "cell_type": "code",
      "source": [
        "model = MultinomialNB()\n",
        "model.fit(X_train,y_train)\n",
        "model.score(X_train,y_train)"
      ],
      "metadata": {
        "colab": {
          "base_uri": "https://localhost:8080/"
        },
        "id": "7TH0tGYWk_ML",
        "outputId": "9faf4288-36a4-4009-c9c4-75253d3d68fc"
      },
      "execution_count": 45,
      "outputs": [
        {
          "output_type": "execute_result",
          "data": {
            "text/plain": [
              "0.9668806161745828"
            ]
          },
          "metadata": {},
          "execution_count": 45
        }
      ]
    },
    {
      "cell_type": "code",
      "source": [
        "y_pred = model.predict(X_test)\n",
        "accuracy = accuracy_score(y_test,y_pred)\n",
        "print('Accuracy-score',accuracy)"
      ],
      "metadata": {
        "colab": {
          "base_uri": "https://localhost:8080/"
        },
        "id": "PLIYI3illaYP",
        "outputId": "76161989-ab29-441f-b2b5-762a2af27f34"
      },
      "execution_count": 46,
      "outputs": [
        {
          "output_type": "stream",
          "name": "stdout",
          "text": [
            "Accuracy-score 0.6971252566735113\n"
          ]
        }
      ]
    },
    {
      "cell_type": "code",
      "source": [
        "print(classification_report(y_test,y_pred))\n"
      ],
      "metadata": {
        "colab": {
          "base_uri": "https://localhost:8080/"
        },
        "id": "wbpU_WG5lnC1",
        "outputId": "d1dcec54-2305-4919-8018-0081796747bd"
      },
      "execution_count": 47,
      "outputs": [
        {
          "output_type": "stream",
          "name": "stdout",
          "text": [
            "              precision    recall  f1-score   support\n",
            "\n",
            "    negative       0.78      0.59      0.67       281\n",
            "     neutral       0.65      0.67      0.66       362\n",
            "    positive       0.70      0.82      0.75       331\n",
            "\n",
            "    accuracy                           0.70       974\n",
            "   macro avg       0.71      0.69      0.69       974\n",
            "weighted avg       0.70      0.70      0.69       974\n",
            "\n"
          ]
        }
      ]
    },
    {
      "cell_type": "code",
      "source": [
        "cf = confusion_matrix(y_test, y_pred)\n",
        "plotcf = ConfusionMatrixDisplay(cf)\n",
        "plotcf.plot()\n",
        "plt.show()\n"
      ],
      "metadata": {
        "colab": {
          "base_uri": "https://localhost:8080/",
          "height": 449
        },
        "id": "WQuyhjAFluBb",
        "outputId": "a51b3d43-dfda-4ff8-d786-312cee3bacb6"
      },
      "execution_count": 48,
      "outputs": [
        {
          "output_type": "display_data",
          "data": {
            "text/plain": [
              "<Figure size 640x480 with 2 Axes>"
            ],
            "image/png": "[encoded data removed]"
          },
          "metadata": {}
        }
      ]
    },
    {
      "cell_type": "code",
      "source": [
        "# tfidf vectoriser performs a bit better compared to count-vectoriser in predicting True positived"
      ],
      "metadata": {
        "id": "gY5HhnHEl1vA"
      },
      "execution_count": 49,
      "outputs": []
    },
    {
      "cell_type": "markdown",
      "source": [
        "# Conclusion \n",
        "\n",
        "* Positive sentiment:\n",
        "- True positives: 166\n",
        "- False negatives: 80\n",
        "- False positives: 37\n",
        "* The model correctly identified 166 positive sentiments, but it incorrectly predicted 80 positive sentiments as negative and 37 positive sentiments as neutral.\n",
        "\n",
        "* Negative sentiment:\n",
        "- True negatives: 241\n",
        "- False positives: 84\n",
        "- False negatives: 48\n",
        "* The model correctly identified 241 negative sentiments, but it incorrectly predicted 84 negative sentiments as positive and 48 negative sentiments as neutral.\n",
        "\n",
        "* Neutral sentiment:\n",
        "- True negatives: 272\n",
        "- False positives: 11\n",
        "- False negatives: 48\n",
        "* The model correctly identified 272 neutral sentiments, but it incorrectly predicted 11 neutral sentiments as positive and 48 neutral sentiments as negative.\n",
        "\n",
        "* Based on this information, you can draw the following conclusions for your sentiment analysis project:\n",
        "\n",
        "* The model performs relatively well in identifying negative sentiments, with a high number of true negatives (241). However, it has a relatively high number of false positives (84) and false negatives (48) for negative sentiments.\n",
        "\n",
        "* The model has a decent performance in identifying positive sentiments, with a reasonable number of true positives (166). However, it has a relatively high number of false negatives (80) and false positives (37) for positive sentiments.\n",
        "\n",
        "* The model performs relatively well in identifying neutral sentiments, with a high number of true negatives (272). However, it has a small number of false positives (11) and a significant number of false negatives (48) for neutral sentiments.\n",
        "\n",
        "\n",
        "\n"
      ],
      "metadata": {
        "id": "qTyLmd88mXdy"
      }
    },
    {
      "cell_type": "markdown",
      "source": [
        "# THANK YOU "
      ],
      "metadata": {
        "id": "yO2pJJR5tGNo"
      }
    }
  ],
  "metadata": {
    "kernelspec": {
      "display_name": "Python 3 (ipykernel)",
      "language": "python",
      "name": "python3"
    },
    "language_info": {
      "codemirror_mode": {
        "name": "ipython",
        "version": 3
      },
      "file_extension": ".py",
      "mimetype": "text/x-python",
      "name": "python",
      "nbconvert_exporter": "python",
      "pygments_lexer": "ipython3",
      "version": "3.9.12"
    },
    "colab": {
      "provenance": []
    }
  },
  "nbformat": 4,
  "nbformat_minor": 0
}